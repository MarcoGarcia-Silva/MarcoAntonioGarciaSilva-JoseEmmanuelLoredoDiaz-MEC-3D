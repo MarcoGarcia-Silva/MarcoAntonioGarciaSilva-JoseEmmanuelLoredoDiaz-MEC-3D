{
 "cells": [
  {
   "cell_type": "markdown",
   "metadata": {},
   "source": [
    "   ## Learning Pyhton\n",
    "  "
   ]
  },
  {
   "cell_type": "markdown",
   "metadata": {},
   "source": [
    "![Image](http://www.utaltamira.edu.mx/wp-content/uploads/2017/06/BIS-LOGO.png)"
   ]
  },
  {
   "cell_type": "markdown",
   "metadata": {},
   "source": [
    "# Exercise 1. A Good First Program"
   ]
  },
  {
   "cell_type": "markdown",
   "metadata": {},
   "source": [
    "This exercise,more than anything,tell us about how to make a good presentation or how our program should start,it also emphasizes than we should not jump the excersise or talk about how to install it."
   ]
  },
  {
   "cell_type": "code",
   "execution_count": 44,
   "metadata": {},
   "outputs": [
    {
     "name": "stdout",
     "output_type": "stream",
     "text": [
      "Hello Guys\n",
      "Hello one more time\n",
      "I like typing this\n"
     ]
    }
   ],
   "source": [
    "print(\"Hello Guys\")\n",
    "print(\"Hello one more time\")\n",
    "print(\"I like typing this\")\n"
   ]
  },
  {
   "cell_type": "markdown",
   "metadata": {},
   "source": [
    "# Exercise 2. Comments and Pound Characters"
   ]
  },
  {
   "cell_type": "markdown",
   "metadata": {},
   "source": [
    "This second exercise tell us about the comments;about how important they are in programming,and that can also help us remember things about the same program.\n"
   ]
  },
  {
   "cell_type": "code",
   "execution_count": 3,
   "metadata": {},
   "outputs": [
    {
     "name": "stdout",
     "output_type": "stream",
     "text": [
      "I could have code like this\n",
      "This will run\n"
     ]
    }
   ],
   "source": [
    "#A comment this is you can read program later#\n",
    "#Anything after # is ignored by te program or python\n",
    "print(\"I could have code like this\")#and the comment after is totaly ignored\n",
    "#You can also use a comment to \"disable\" or comment out code\n",
    "#print(\"This will not run\")\n",
    "print(\"This will run\")#Because in this case we are not considering like a comment"
   ]
  },
  {
   "cell_type": "markdown",
   "metadata": {},
   "source": [
    "# Exercise 3.Numbers and Math"
   ]
  },
  {
   "cell_type": "markdown",
   "metadata": {},
   "source": [
    "This exercise emphasizes the great variety of mathematical operations that can be used to carry out our program,such as:"
   ]
  },
  {
   "cell_type": "code",
   "execution_count": 4,
   "metadata": {},
   "outputs": [
    {
     "name": "stdout",
     "output_type": "stream",
     "text": [
      "I will now count my chickens:\n",
      "Hens 30.0\n",
      "Roosters 97\n"
     ]
    }
   ],
   "source": [
    "print(\"I will now count my chickens:\")\n",
    "print(\"Hens\",25+30/6)\n",
    "print(\"Roosters\",100-25*3%4)\n"
   ]
  },
  {
   "cell_type": "markdown",
   "metadata": {},
   "source": [
    "# Exercise 4.Variables and Names"
   ]
  },
  {
   "cell_type": "markdown",
   "metadata": {},
   "source": [
    "Here is telling us about the variables and names that we use in our program.It tell us that they are not the names to decorate the program."
   ]
  },
  {
   "cell_type": "code",
   "execution_count": 8,
   "metadata": {},
   "outputs": [
    {
     "name": "stdout",
     "output_type": "stream",
     "text": [
      "There are 200 cars available.\n",
      "There are only 60 drivers available.\n",
      "There will be 140 empty cars today.\n",
      "We can transport 240.0 people today.\n",
      "We have 100 to carpool today.\n",
      "We need to put about 1.6666666666666667 in each car.\n"
     ]
    }
   ],
   "source": [
    "cars =200\n",
    "space_in_a_car = 4.0\n",
    "drivers = 60\n",
    "passengers =100\n",
    "cars_not_driven = cars - drivers\n",
    "cars_driven = drivers\n",
    "carpool_capacity = cars_driven * space_in_a_car\n",
    "average_passengers_per_car = passengers / cars_driven\n",
    "print(\"There are\", cars, \"cars available.\")\n",
    "print(\"There are only\", drivers, \"drivers available.\")\n",
    "print(\"There will be\", cars_not_driven, \"empty cars today.\")\n",
    "print(\"We can transport\", carpool_capacity, \"people today.\") \n",
    "print(\"We have\", passengers, \"to carpool today.\")\n",
    "print(\"We need to put about\", average_passengers_per_car,\"in each car.\")"
   ]
  },
  {
   "cell_type": "markdown",
   "metadata": {},
   "source": [
    "# Exercise 5. More Variables and Printing "
   ]
  },
  {
   "cell_type": "markdown",
   "metadata": {},
   "source": [
    "It is this exercise than talks about quotation marks,which is one to make \"strings\" than are a type of comments but in a nutshell these are more useful."
   ]
  },
  {
   "cell_type": "code",
   "execution_count": 18,
   "metadata": {
    "scrolled": true
   },
   "outputs": [
    {
     "name": "stdout",
     "output_type": "stream",
     "text": [
      "Let's talk about Emmanuel Loredo.\n",
      "He's 1.8 centimeters tall.\n",
      "He's 85 kilograms heavy.\n",
      "Actually that's not too heavy.\n",
      "He's got Brown eyes and Black hair.\n",
      "His teeth are usually White depending on that he usually eat.\n"
     ]
    }
   ],
   "source": [
    "my_name = 'Emmanuel Loredo'\n",
    "my_age = 18 # not a lie\n",
    "my_height = 1.80 # in cm\n",
    "my_weight = 85 # kg\n",
    "my_eyes = 'Brown'\n",
    "my_teeth = 'White'\n",
    "my_hair = 'Black'\n",
    "\n",
    "print(f\"Let's talk about {my_name}.\")\n",
    "print(f\"He's {my_height} centimeters tall.\")\n",
    "print(f\"He's {my_weight} kilograms heavy.\")\n",
    "print(\"Actually that's not too heavy.\")\n",
    "print(f\"He's got {my_eyes} eyes and {my_hair} hair.\")\n",
    "print(f\"His teeth are usually {my_teeth} depending on that he usually eat.\")\n",
    "\n",
    " \n"
   ]
  },
  {
   "cell_type": "markdown",
   "metadata": {},
   "source": [
    "# Exercise 6. Strings and Text"
   ]
  },
  {
   "cell_type": "markdown",
   "metadata": {},
   "source": [
    "in this exercise we create bunches of variables with complex strings so you can see  how is it used"
   ]
  },
  {
   "cell_type": "code",
   "execution_count": 23,
   "metadata": {},
   "outputs": [
    {
     "name": "stdout",
     "output_type": "stream",
     "text": [
      "There are 20 types of people.\n",
      "Those who know add and those who don't.\n",
      "I said: There are 20 types of people.\n",
      "I also said: 'Those who know add and those who don't.'\n",
      "Isn't that joke so funny?! False\n",
      "This is the left side of...a string with a right side.\n"
     ]
    }
   ],
   "source": [
    "types_of_people = 20\n",
    "x = f\"There are {types_of_people} types of people.\"\n",
    "\n",
    "add = \"add\"\n",
    "do_not = \"don't\"\n",
    "y = f\"Those who know {add} and those who {do_not}.\"\n",
    "\n",
    "print(x)\n",
    "print(y)\n",
    "\n",
    "print(f\"I said: {x}\")\n",
    "print(f\"I also said: '{y}'\")\n",
    "\n",
    "hilarious = False\n",
    "joke_evaluation = \"Isn't that joke so funny?! {}\"\n",
    "\n",
    "print(joke_evaluation.format(hilarious))\n",
    "w = \"This is the left side of...\"\n",
    "e = \"a string with a right side.\"\n",
    "print(w + e)"
   ]
  },
  {
   "cell_type": "markdown",
   "metadata": {},
   "source": [
    "# Exercise 7. More Printing"
   ]
  },
  {
   "cell_type": "markdown",
   "metadata": {},
   "source": [
    "This is more of the same we will do more exercise there will be a bunch."
   ]
  },
  {
   "cell_type": "code",
   "execution_count": 33,
   "metadata": {},
   "outputs": [
    {
     "name": "stdout",
     "output_type": "stream",
     "text": [
      "Mary had a puppy.\n",
      "Its hair was dark as night.\n",
      "And everywhere that Mary went.\n",
      "..........\n",
      "Burger King\n"
     ]
    }
   ],
   "source": [
    "print(\"Mary had a puppy.\")\n",
    "print(\"Its hair was dark as {}.\".format('night'))\n",
    "print(\"And everywhere that Mary went.\")\n",
    "print(\".\" * 10) # what'd that do?\n",
    "\n",
    "end1 = \"B\"\n",
    "end2 = \"u\"\n",
    "end3 = \"r\"\n",
    "end4 = \"g\"\n",
    "end5 = \"e\"\n",
    "end6 = \"r\"\n",
    "end7 = \"K\"\n",
    "end8 = \"i\"\n",
    "end9 = \"n\"\n",
    "end10 = \"g\"\n",
    "\n",
    "\n",
    " # watch that comma at the end. try removing it to see what happens\n",
    "print(end1 + end2 + end3 + end4 + end5 + end6, end=' ')\n",
    "print(end7 + end8 + end9 + end10 )"
   ]
  },
  {
   "cell_type": "markdown",
   "metadata": {},
   "source": [
    "# Exercise 8. Printing,Printing."
   ]
  },
  {
   "cell_type": "markdown",
   "metadata": {},
   "source": [
    "This is a formatting more difficult in a string"
   ]
  },
  {
   "cell_type": "code",
   "execution_count": 36,
   "metadata": {},
   "outputs": [
    {
     "name": "stdout",
     "output_type": "stream",
     "text": [
      "1 2 3 4\n",
      "one two three four\n",
      "True False False True\n",
      "{} {} {} {} {} {} {} {} {} {} {} {} {} {} {} {}\n",
      "Hello I'm a studet of Mechatronics, Who are you?\n"
     ]
    }
   ],
   "source": [
    "formatter = \"{} {} {} {}\"\n",
    "print(formatter.format(1, 2, 3, 4))\n",
    "print(formatter.format(\"one\", \"two\", \"three\", \"four\"))\n",
    "print(formatter.format(True, False, False, True))\n",
    "print(formatter.format(formatter, formatter, formatter, formatter))\n",
    "print(formatter.format(\n",
    "\"Hello\",\n",
    " \"I'm a studet\",\n",
    "\"of Mechatronics,\",\n",
    "\"Who are you?\"\n",
    " ))"
   ]
  },
  {
   "cell_type": "markdown",
   "metadata": {},
   "source": [
    "# Exercise 9. Printing,Printing,Printing."
   ]
  },
  {
   "cell_type": "markdown",
   "metadata": {},
   "source": [
    "Here we will see other printing examples."
   ]
  },
  {
   "cell_type": "code",
   "execution_count": 40,
   "metadata": {},
   "outputs": [
    {
     "name": "stdout",
     "output_type": "stream",
     "text": [
      "Here are the pair numbers :  2,4,6,8,10,12,14,16,18,20\n",
      "Here are the inpair numbers:  \n",
      "1 \n",
      "3 \n",
      "5 \n",
      "7 \n",
      "9 \n",
      "11 \n",
      "13 \n",
      "15 \n",
      "17 \n",
      "19\n",
      "\n",
      "There's something going on here.\n",
      "With the three double-quotes.\n",
      " We'll be able to type as much as we like.\n",
      "Even 4 lines if we want, or 5, or 6.\n",
      " \n"
     ]
    }
   ],
   "source": [
    "pair = \"2,4,6,8,10,12,14,16,18,20\"\n",
    "inpair = \"\\n1 \\n3 \\n5 \\n7 \\n9 \\n11 \\n13 \\n15 \\n17 \\n19\"\n",
    "print(\"Here are the pair numbers : \", pair)\n",
    "print(\"Here are the inpair numbers: \", inpair)\n",
    "print(\"\"\"\n",
    "There's something going on here.\n",
    "With the three double-quotes.\n",
    " We'll be able to type as much as we like.\n",
    "Even 4 lines if we want, or 5, or 6.\n",
    " \"\"\")"
   ]
  },
  {
   "cell_type": "markdown",
   "metadata": {},
   "source": [
    "# Exercise 10. What Was That?"
   ]
  },
  {
   "cell_type": "markdown",
   "metadata": {},
   "source": [
    "In the past exercise we saw someting new that was a \"backslash\" (\\\\)This character encodes difficult-to-type characters into a string.and now we are going to use it to have three double quotes."
   ]
  },
  {
   "cell_type": "code",
   "execution_count": 41,
   "metadata": {},
   "outputs": [
    {
     "name": "stdout",
     "output_type": "stream",
     "text": [
      "\tI'm tabbed in.\n",
      "I'm split\n",
      "on a line.\n",
      "I'm \\ a \\ cat.\n",
      "\n",
      "I'll do a list:\n",
      " \t* Cat food\n",
      " \t* Fishies\n",
      " \t* Catnip\n",
      "\t* Grass\n",
      " \n"
     ]
    }
   ],
   "source": [
    "tabby_cat = \"\\tI'm tabbed in.\"\n",
    "persian_cat = \"I'm split\\non a line.\"\n",
    "backslash_cat = \"I'm \\\\ a \\\\ cat.\"\n",
    "\n",
    "fat_cat = \"\"\"\n",
    "I'll do a list:\n",
    " \\t* Cat food\n",
    " \\t* Fishies\n",
    " \\t* Catnip\\n\\t* Grass\n",
    " \"\"\"\n",
    "print(tabby_cat)\n",
    "print(persian_cat)\n",
    "print(backslash_cat)\n",
    "print(fat_cat)"
   ]
  },
  {
   "cell_type": "code",
   "execution_count": null,
   "metadata": {},
   "outputs": [],
   "source": []
  }
 ],
 "metadata": {
  "kernelspec": {
   "display_name": "Python 3",
   "language": "python",
   "name": "python3"
  },
  "language_info": {
   "codemirror_mode": {
    "name": "ipython",
    "version": 3
   },
   "file_extension": ".py",
   "mimetype": "text/x-python",
   "name": "python",
   "nbconvert_exporter": "python",
   "pygments_lexer": "ipython3",
   "version": "3.7.3"
  }
 },
 "nbformat": 4,
 "nbformat_minor": 2
}
